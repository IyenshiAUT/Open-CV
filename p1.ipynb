{
 "cells": [
  {
   "cell_type": "code",
   "execution_count": 5,
   "metadata": {},
   "outputs": [],
   "source": [
    "# Import the library\n",
    "import cv2\n",
    "\n",
    "#Load image using 'imread' and save ti int a variable 'imput'\n",
    "input = cv2.imread('img/nature.jpg')\n",
    "\n",
    "# Display the image save in the variable\n",
    "cv2.imshow(\"Nature Image\", input)\n",
    "# include window title name(parameter 1) and the variable(paramter 2)\n",
    "\n",
    "# image window keeps open until a key disrupt the process, wait for 0 sec\n",
    "cv2.waitKey(0)\n",
    "\n",
    "# In any failture or interupt close all the window\n",
    "cv2.destroyAllWindows()\n",
    "\n"
   ]
  },
  {
   "cell_type": "code",
   "execution_count": 3,
   "metadata": {},
   "outputs": [],
   "source": []
  },
  {
   "cell_type": "code",
   "execution_count": 4,
   "metadata": {},
   "outputs": [],
   "source": [
    "\n"
   ]
  },
  {
   "cell_type": "code",
   "execution_count": null,
   "metadata": {},
   "outputs": [],
   "source": []
  }
 ],
 "metadata": {
  "kernelspec": {
   "display_name": "taneesha",
   "language": "python",
   "name": "python3"
  },
  "language_info": {
   "codemirror_mode": {
    "name": "ipython",
    "version": 3
   },
   "file_extension": ".py",
   "mimetype": "text/x-python",
   "name": "python",
   "nbconvert_exporter": "python",
   "pygments_lexer": "ipython3",
   "version": "3.12.3"
  }
 },
 "nbformat": 4,
 "nbformat_minor": 2
}
